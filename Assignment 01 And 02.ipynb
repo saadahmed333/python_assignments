{
 "cells": [
  {
   "cell_type": "markdown",
   "metadata": {},
   "source": [
    "# Part -1 Python Basics (Variables)"
   ]
  },
  {
   "cell_type": "markdown",
   "metadata": {},
   "source": [
    "1. Print Your Name with your Father name and Date of birth using suitable escape sequence charactor"
   ]
  },
  {
   "cell_type": "code",
   "execution_count": 1,
   "metadata": {},
   "outputs": [
    {
     "name": "stdout",
     "output_type": "stream",
     "text": [
      "Name:\tSaad Ahmed\n",
      "Father Name:\tSaleem Ahmed\n",
      "Date of Birth:\t14-05-2004\n"
     ]
    }
   ],
   "source": [
    "print(\"Name:\\tSaad Ahmed\\nFather Name:\\tSaleem Ahmed\\nDate of Birth:\\t14-05-2004\")"
   ]
  },
  {
   "cell_type": "markdown",
   "metadata": {},
   "source": [
    "2. Write your small bio using variables and print it using print function"
   ]
  },
  {
   "cell_type": "code",
   "execution_count": 2,
   "metadata": {},
   "outputs": [
    {
     "name": "stdout",
     "output_type": "stream",
     "text": [
      "My name is Saad Ahmed\n",
      "My father name is Saleem Ahmed\n",
      "My roll number is 678677987\n",
      "My date of birth is 14-05-2004\n",
      "My institute name is Saylani Mass IT Training Program\n"
     ]
    }
   ],
   "source": [
    "name = \"Saad Ahmed\"\n",
    "father_name = \"Saleem Ahmed\"\n",
    "roll_no = 678677987\n",
    "dob = \"14-05-2004\"\n",
    "institute = \"Saylani Mass IT Training Program\"\n",
    "print(\"My name is\", name)\n",
    "print(\"My father name is\", father_name)\n",
    "print(\"My roll number is\", roll_no)\n",
    "print(\"My date of birth is\", dob)\n",
    "print(\"My institute name is\", institute)"
   ]
  },
  {
   "cell_type": "markdown",
   "metadata": {},
   "source": [
    "3. Write a program in which use all the operators we can use in Python"
   ]
  },
  {
   "cell_type": "code",
   "execution_count": 77,
   "metadata": {},
   "outputs": [
    {
     "name": "stdout",
     "output_type": "stream",
     "text": [
      "Arithmetic operators:\n",
      "a + b = 13\n",
      "a - b = 7\n",
      "a * b = 30\n",
      "a / b = 3.3333333333333335\n",
      "a // b = 3\n",
      "a % b = 1\n",
      "a ** b = 1000\n",
      "\n",
      "Comparison operators:\n",
      "a == b is False\n",
      "a != b is True\n",
      "a > b is True\n",
      "a < b is False\n",
      "a >= b is True\n",
      "a <= b is False\n",
      "\n",
      "Logical operators:\n",
      "x and y is False\n",
      "x or y is True\n",
      "not x is False\n",
      "\n",
      "Assignment operators:\n",
      "c += 2: 7\n",
      "c -= 2: 5\n",
      "c *= 2: 10\n",
      "c /= 2: 5.0\n",
      "c //= 2: 2.0\n",
      "c %= 2: 0.0\n",
      "c **= 2: 0.0\n"
     ]
    }
   ],
   "source": [
    "# Arithmetic operators\n",
    "a = 10\n",
    "b = 3\n",
    "print(f\"Arithmetic operators:\")\n",
    "print(f\"a + b = {a + b}\")  \n",
    "print(f\"a - b = {a - b}\")  \n",
    "print(f\"a * b = {a * b}\")  \n",
    "print(f\"a / b = {a / b}\")  \n",
    "print(f\"a // b = {a // b}\") \n",
    "print(f\"a % b = {a % b}\")  \n",
    "print(f\"a ** b = {a ** b}\") \n",
    "\n",
    "# Comparison operators\n",
    "print(f\"\\nComparison operators:\")\n",
    "print(f\"a == b is {a == b}\") \n",
    "print(f\"a != b is {a != b}\")  \n",
    "print(f\"a > b is {a > b}\")  \n",
    "print(f\"a < b is {a < b}\") \n",
    "print(f\"a >= b is {a >= b}\") \n",
    "print(f\"a <= b is {a <= b}\") \n",
    "\n",
    "# Logical operators\n",
    "x = True\n",
    "y = False\n",
    "print(f\"\\nLogical operators:\")\n",
    "print(f\"x and y is {x and y}\")\n",
    "print(f\"x or y is {x or y}\")\n",
    "print(f\"not x is {not x}\")  \n",
    "\n",
    "# Assignment operators\n",
    "print(f\"\\nAssignment operators:\")\n",
    "c = 5\n",
    "c += 2\n",
    "print(f\"c += 2: {c}\")\n",
    "c -= 2 \n",
    "print(f\"c -= 2: {c}\")\n",
    "c *= 2 \n",
    "print(f\"c *= 2: {c}\")\n",
    "c /= 2\n",
    "print(f\"c /= 2: {c}\")\n",
    "c //= 2\n",
    "print(f\"c //= 2: {c}\")\n",
    "c %= 2\n",
    "print(f\"c %= 2: {c}\")\n",
    "c **= 2\n",
    "print(f\"c **= 2: {c}\")\n"
   ]
  },
  {
   "cell_type": "markdown",
   "metadata": {},
   "source": [
    "4. Completes the following steps of small task:\n",
    "    - Mention Marks of English , Islamiat and Maths out of 100 in 3 different variables\n",
    "    - Mention Variable of Total Marks and assign 300 to it\n",
    "    - Calculate Percentage"
   ]
  },
  {
   "cell_type": "code",
   "execution_count": 4,
   "metadata": {},
   "outputs": [
    {
     "name": "stdout",
     "output_type": "stream",
     "text": [
      "Percentage of student is: 75.33333333333333\n"
     ]
    }
   ],
   "source": [
    "english = 72\n",
    "islamiat = 86\n",
    "math = 68\n",
    "total_marks = 300\n",
    "obtained_marks = english+islamiat+math\n",
    "percentage = (obtained_marks * 100) / total_marks\n",
    "print(\"Percentage of student is:\", percentage)"
   ]
  },
  {
   "cell_type": "markdown",
   "metadata": {},
   "source": [
    "# Part -2 Python Basics (Conditional Statements)"
   ]
  },
  {
   "cell_type": "markdown",
   "metadata": {},
   "source": [
    "1) A company decided to give bonus of 5% to employee if his/her year of service is more than 5 years.\n",
    "Ask user for their salary and year of service and print the net bonus amount."
   ]
  },
  {
   "cell_type": "code",
   "execution_count": 6,
   "metadata": {},
   "outputs": [
    {
     "name": "stdin",
     "output_type": "stream",
     "text": [
      "What is your current salary 75000\n",
      "How many year of service in this company 5\n"
     ]
    },
    {
     "name": "stdout",
     "output_type": "stream",
     "text": [
      "Your net bonus is 3750.0\n"
     ]
    }
   ],
   "source": [
    "salary = int(input(\"What is your current salary\"))\n",
    "year_of_service = int(input(\"How many year of service in this company\"))\n",
    "bonus = 0.05\n",
    "net_bonus = (salary*bonus)\n",
    "if year_of_service >= 5:\n",
    "    print(\"Your net bonus is\", net_bonus)\n",
    "else:\n",
    "    print(\"You are not eligible for bonus!\")"
   ]
  },
  {
   "cell_type": "markdown",
   "metadata": {},
   "source": [
    "\n",
    "2) Write a program to check whether a person is eligible for voting or not. (accept age from user) if age is greater than 17 eligible otherwise not eligible"
   ]
  },
  {
   "cell_type": "code",
   "execution_count": 7,
   "metadata": {},
   "outputs": [
    {
     "name": "stdin",
     "output_type": "stream",
     "text": [
      "Enter your age 18\n"
     ]
    },
    {
     "name": "stdout",
     "output_type": "stream",
     "text": [
      "You are eligible for voting.\n"
     ]
    }
   ],
   "source": [
    "age = int(input(\"Enter your age\"))\n",
    "if age > 17:\n",
    "    print(\"You are eligible for voting.\")\n",
    "else:\n",
    "    print(\"You are not eligible for voting.\")"
   ]
  },
  {
   "cell_type": "markdown",
   "metadata": {},
   "source": [
    "\n",
    "3) Write a program to check whether a number entered by user is even or odd."
   ]
  },
  {
   "cell_type": "code",
   "execution_count": 8,
   "metadata": {},
   "outputs": [
    {
     "name": "stdin",
     "output_type": "stream",
     "text": [
      "Enter a number to check number is even or odd 6\n"
     ]
    },
    {
     "name": "stdout",
     "output_type": "stream",
     "text": [
      "6 is even number.\n"
     ]
    }
   ],
   "source": [
    "num = int(input(\"Enter a number to check number is even or odd\"))\n",
    "if num % 2 == 0:\n",
    "    print(f\"{num} is even number.\")\n",
    "else:\n",
    "    print(f\"{num} is odd number.\")"
   ]
  },
  {
   "cell_type": "markdown",
   "metadata": {},
   "source": [
    "4) Write a program to check whether a number is divisible by 7 or not.\n",
    "Show Answer"
   ]
  },
  {
   "cell_type": "code",
   "execution_count": 10,
   "metadata": {},
   "outputs": [
    {
     "name": "stdin",
     "output_type": "stream",
     "text": [
      "Enter a number to check the number is divisble by 7 or not 35\n"
     ]
    },
    {
     "name": "stdout",
     "output_type": "stream",
     "text": [
      "35 is divisible by 7.\n"
     ]
    }
   ],
   "source": [
    "check_num = int(input(\"Enter a number to check the number is divisble by 7 or not\"))\n",
    "if check_num % 7 == 0:\n",
    "    print(f\"{check_num} is divisible by 7.\")\n",
    "else:\n",
    "    print(f\"{check_num} is not divisible by 7.\")"
   ]
  },
  {
   "cell_type": "markdown",
   "metadata": {},
   "source": [
    "5) Write a program to display \n",
    "\"Hello\" if a number entered by user is a multiple of five , otherwise print \"Bye\"."
   ]
  },
  {
   "cell_type": "code",
   "execution_count": 76,
   "metadata": {},
   "outputs": [
    {
     "name": "stdin",
     "output_type": "stream",
     "text": [
      "Enter a number 55\n"
     ]
    },
    {
     "name": "stdout",
     "output_type": "stream",
     "text": [
      "Hello\n"
     ]
    }
   ],
   "source": [
    "number = int(input(\"Enter a number\"))\n",
    "if number % 5 == 0:\n",
    "    print(\"Hello\")\n",
    "else:\n",
    "    print(\"Bye\")"
   ]
  },
  {
   "cell_type": "markdown",
   "metadata": {},
   "source": [
    "7) Write a program to display the last digit of a number.\n"
   ]
  },
  {
   "cell_type": "code",
   "execution_count": 11,
   "metadata": {},
   "outputs": [
    {
     "name": "stdin",
     "output_type": "stream",
     "text": [
      "Enter a number:  567\n"
     ]
    },
    {
     "name": "stdout",
     "output_type": "stream",
     "text": [
      "The last digit of 567 is 7.\n"
     ]
    }
   ],
   "source": [
    "number = int(input(\"Enter a number: \"))\n",
    "last_digit = number % 10\n",
    "print(f\"The last digit of {number} is {last_digit}.\")"
   ]
  },
  {
   "cell_type": "markdown",
   "metadata": {},
   "source": [
    "9) Take values of length and breadth of a rectangle from user and print if it is square or rectangle."
   ]
  },
  {
   "cell_type": "code",
   "execution_count": 13,
   "metadata": {},
   "outputs": [
    {
     "name": "stdin",
     "output_type": "stream",
     "text": [
      "Enter a length value 7\n",
      "Enter a breadth value 7\n"
     ]
    },
    {
     "name": "stdout",
     "output_type": "stream",
     "text": [
      "It is a square.\n"
     ]
    }
   ],
   "source": [
    "length = int(input(\"Enter a length value\"))\n",
    "breadth = int(input(\"Enter a breadth value\"))\n",
    "if length == breadth:\n",
    "    print(\"It is a square.\")\n",
    "else:\n",
    "    print(\"It is a rectangle.\")"
   ]
  },
  {
   "cell_type": "markdown",
   "metadata": {},
   "source": [
    "10) Take two int values from user and print greatest among them."
   ]
  },
  {
   "cell_type": "code",
   "execution_count": 14,
   "metadata": {},
   "outputs": [
    {
     "name": "stdin",
     "output_type": "stream",
     "text": [
      "Enter a first value 3\n",
      "Enter a second value 6\n"
     ]
    },
    {
     "name": "stdout",
     "output_type": "stream",
     "text": [
      "6 is greater than 3.\n"
     ]
    }
   ],
   "source": [
    "first_num = int(input(\"Enter a first value\"))\n",
    "second_num = int(input(\"Enter a second value\"))\n",
    "if first_num > second_num:\n",
    "    print(f\"{first_num} is greater than {second_num}.\")\n",
    "if first_num < second_num:\n",
    "    print(f\"{second_num} is greater than {first_num}.\")"
   ]
  },
  {
   "cell_type": "markdown",
   "metadata": {},
   "source": [
    "11) A shop will give discount of 10% if the cost of purchased quantity is more than 1000.\n",
    "Ask user for quantity\n",
    "Suppose, one unit will cost 100.\n",
    "Judge and print total cost for user."
   ]
  },
  {
   "cell_type": "code",
   "execution_count": 19,
   "metadata": {},
   "outputs": [
    {
     "name": "stdin",
     "output_type": "stream",
     "text": [
      "Enter a quantity of items 13\n"
     ]
    },
    {
     "name": "stdout",
     "output_type": "stream",
     "text": [
      "You received a 10% discount. The total cost is: 1170.0 rupees.\n"
     ]
    }
   ],
   "source": [
    "#Type your code here\n",
    "discount_on_cost = 1000\n",
    "quantity = int(input(\"Enter a quantity of items\"))\n",
    "per_item_price = 100\n",
    "total_cost = quantity * per_item_price\n",
    "if total_cost >= discount_on_cost:\n",
    "    discount_price = total_cost * 0.10\n",
    "    total_cost -= discount_price\n",
    "    print(f\"You received a 10% discount. The total cost is: {total_cost} rupees.\")\n",
    "else:\n",
    "    print(f\"The total cost is: {total_cost} rupees.\")"
   ]
  },
  {
   "cell_type": "markdown",
   "metadata": {},
   "source": [
    "12) A school has following rules for grading system:\n",
    "\n",
    "a. Below 25 - F\n",
    "\n",
    "b. 25 to 45 - E\n",
    "\n",
    "c. 45 to 50 - D\n",
    "\n",
    "d. 50 to 60 - C\n",
    "\n",
    "e. 60 to 80 - B\n",
    "\n",
    "f. Above 80 - A\n",
    "\n",
    "Ask user to enter marks and print the corresponding grade."
   ]
  },
  {
   "cell_type": "code",
   "execution_count": 24,
   "metadata": {},
   "outputs": [
    {
     "name": "stdin",
     "output_type": "stream",
     "text": [
      "Enter your marks 101\n"
     ]
    },
    {
     "name": "stdout",
     "output_type": "stream",
     "text": [
      "Your grade is A\n"
     ]
    }
   ],
   "source": [
    "marks = int(input(\"Enter your marks\"))\n",
    "if marks >= 80:\n",
    "    print(\"Your grade is A\")\n",
    "elif marks >= 60 and marks < 80:\n",
    "     print(\"Your grade is B\")\n",
    "elif marks >= 50 and marks < 60:\n",
    "     print(\"Your grade is C\")\n",
    "elif marks >= 45 and marks < 50:\n",
    "     print(\"Your grade is D\")\n",
    "elif marks >= 25 and marks < 45:\n",
    "     print(\"Your grade is E\")\n",
    "else:\n",
    "     print(\"Your grade is F\")"
   ]
  },
  {
   "cell_type": "markdown",
   "metadata": {},
   "source": [
    "14)A student will not be allowed to sit in exam if his/her attendence is less than 75%.\n",
    "\n",
    "Take following input from user\n",
    "\n",
    "- Number of classes held\n",
    "\n",
    "- Number of classes attended.\n",
    "\n",
    "And print\n",
    "\n",
    "- percentage of class attended\n",
    "\n",
    "- Is student is allowed to sit in exam or not.\n"
   ]
  },
  {
   "cell_type": "code",
   "execution_count": 28,
   "metadata": {},
   "outputs": [
    {
     "name": "stdin",
     "output_type": "stream",
     "text": [
      "Enter the number of classes held:  14\n",
      "Enter the number of classes attended:  10\n"
     ]
    },
    {
     "name": "stdout",
     "output_type": "stream",
     "text": [
      "Percentage of classes attended: 71.43%\n",
      "The student is not allowed to sit in the exam.\n"
     ]
    }
   ],
   "source": [
    "classes_held = int(input(\"Enter the number of classes held: \"))\n",
    "classes_attended = int(input(\"Enter the number of classes attended: \"))\n",
    "attendance_percentage = (classes_attended / classes_held) * 100\n",
    "print(f\"Percentage of classes attended: {attendance_percentage:.2f}%\")\n",
    "if attendance_percentage >= 75:\n",
    "    print(\"The student is allowed to sit in the exam.\")\n",
    "else:\n",
    "    print(\"The student is not allowed to sit in the exam.\")"
   ]
  },
  {
   "cell_type": "markdown",
   "metadata": {},
   "source": [
    "15) Modify the above question to allow student to sit if he/she has medical cause. Ask user if he/she has medical cause or not ( 'Y' or 'N' ) and print accordingly."
   ]
  },
  {
   "cell_type": "code",
   "execution_count": 35,
   "metadata": {},
   "outputs": [
    {
     "name": "stdin",
     "output_type": "stream",
     "text": [
      "Do you have a medical reason for your low attendance? Please enter 'Y' for yes or 'N' for no. N\n"
     ]
    },
    {
     "name": "stdout",
     "output_type": "stream",
     "text": [
      "The student is not allowed to sit in the exam.\n"
     ]
    }
   ],
   "source": [
    "medical_cause = input(\"Do you have a medical reason for your low attendance? Please enter 'Y' for yes or 'N' for no.\")\n",
    "if medical_cause.upper() == \"Y\":\n",
    "    print(\"The student is allowed to sit in the exam.\")\n",
    "else:\n",
    "    print(\"The student is not allowed to sit in the exam.\")"
   ]
  },
  {
   "cell_type": "markdown",
   "metadata": {},
   "source": [
    "16) Write a program to check if a year is leap year or not.\n",
    "\n",
    "If a year is divisible by 4 then it is leap year but if the year is century year like 2000, 1900, 2100 then it must be divisible by 400."
   ]
  },
  {
   "cell_type": "code",
   "execution_count": 56,
   "metadata": {},
   "outputs": [
    {
     "name": "stdin",
     "output_type": "stream",
     "text": [
      "Enter a year 2020\n"
     ]
    },
    {
     "name": "stdout",
     "output_type": "stream",
     "text": [
      "It's a leap year\n"
     ]
    }
   ],
   "source": [
    "year = int(input(\"Enter a year\"))\n",
    "if (year % 4 == 0 and year % 100 != 0) or (year % 400 == 0):\n",
    "    print(\"It's a leap year\")\n",
    "else:\n",
    "    print(\"Its not a leap year\")"
   ]
  },
  {
   "cell_type": "markdown",
   "metadata": {},
   "source": [
    "17) Ask user to enter age, gender ( M or F ), marital status ( Y or N ) and then using following rules print their place of service.\n",
    "\n",
    "if employee is female, then she will work only in urban areas.\n",
    "\n",
    "if employee is a male and age is in between 20 to 40 then he may work in anywhere\n",
    "\n",
    "if employee is male and age is in between 40 t0 60 then he will work in urban areas only.\n",
    "\n",
    "And any other input of age should print \"ERROR\""
   ]
  },
  {
   "cell_type": "code",
   "execution_count": 63,
   "metadata": {},
   "outputs": [
    {
     "name": "stdin",
     "output_type": "stream",
     "text": [
      "Enter your age 31\n",
      "Enter your gender please enter 'M' for Male or 'F' for Female. M\n"
     ]
    },
    {
     "name": "stdout",
     "output_type": "stream",
     "text": [
      "he may work in anywhere\n"
     ]
    }
   ],
   "source": [
    "age = int(input(\"Enter your age\"))\n",
    "gender = input(\"Enter your gender please enter 'M' for Male or 'F' for Female.\")\n",
    "# martial_status = input(\"Enter your martial status enter 'Y' for Yes or 'N' for No.\")\n",
    "\n",
    "if gender.upper() == \"F\":\n",
    "    print(\"she will work only in urban areas\")\n",
    "if gender.upper() == \"M\":\n",
    "    if age >= 20 and age < 40:\n",
    "        print(\"he may work in anywhere\")\n",
    "    elif age >= 40 and age < 60:\n",
    "        print(\"he will work in urban areas only\")\n",
    "    else:\n",
    "        print(\"Error\")"
   ]
  },
  {
   "cell_type": "markdown",
   "metadata": {},
   "source": [
    "6) Write a program to calculate the electricity bill (accept number of unit from user) according to the following criteria :\n",
    "     Unit                                                     Price  \n",
    "uptp 100 units                                             no charge\n",
    "Next 200 units                                              Rs 5 per unit\n",
    "After 200 units                                             Rs 10 per unit\n",
    "(For example if input unit is 350 than total bill amount is Rs.3500\n",
    "(For example if input unit is 97 than total bill amount is Rs.0\n",
    "(For example if input unit is 150 than total bill amount is Rs.750"
   ]
  },
  {
   "cell_type": "code",
   "execution_count": 72,
   "metadata": {},
   "outputs": [
    {
     "name": "stdin",
     "output_type": "stream",
     "text": [
      "Enter your electricity units 350\n"
     ]
    },
    {
     "name": "stdout",
     "output_type": "stream",
     "text": [
      "total bill amount is 3500\n"
     ]
    }
   ],
   "source": [
    "units = int(input(\"Enter your electricity units\"))\n",
    "positive_units = abs(units)\n",
    "charges = 0\n",
    "if positive_units <= 100:\n",
    "    print(f\"{positive_units} units no charge\")\n",
    "elif positive_units > 100 and positive_units <= 200:\n",
    "    charges = positive_units * 5\n",
    "    print(f\"total bill amount is {charges}\")\n",
    "else:\n",
    "    charges = positive_units * 10\n",
    "    print(f\"total bill amount is {charges}\")"
   ]
  },
  {
   "cell_type": "markdown",
   "metadata": {},
   "source": [
    "<!-- 13) Take input of age of 3 people by user and determine oldest and youngest among them. -->"
   ]
  },
  {
   "cell_type": "code",
   "execution_count": 73,
   "metadata": {},
   "outputs": [
    {
     "name": "stdin",
     "output_type": "stream",
     "text": [
      "Enter age of person 1:  18\n",
      "Enter age of person 2:  22\n",
      "Enter age of person 3:  5\n"
     ]
    },
    {
     "name": "stdout",
     "output_type": "stream",
     "text": [
      "The oldest person is 22 years old.\n",
      "The youngest person is 5 years old.\n"
     ]
    }
   ],
   "source": [
    "# 13) Take input of age of 3 people by user and determine oldest and youngest among them.\n",
    "\n",
    "age1 = int(input(\"Enter age of person 1: \"))\n",
    "age2 = int(input(\"Enter age of person 2: \"))\n",
    "age3 = int(input(\"Enter age of person 3: \"))\n",
    "if age1 >= age2 and age1 >= age3:\n",
    "    oldest = age1\n",
    "elif age2 >= age1 and age2 >= age3:\n",
    "    oldest = age2\n",
    "else:\n",
    "    oldest = age3\n",
    "\n",
    "if age1 <= age2 and age1 <= age3:\n",
    "    youngest = age1\n",
    "elif age2 <= age1 and age2 <= age3:\n",
    "    youngest = age2\n",
    "else:\n",
    "    youngest = age3\n",
    "print(f\"The oldest person is {oldest} years old.\")\n",
    "print(f\"The youngest person is {youngest} years old.\")"
   ]
  },
  {
   "cell_type": "code",
   "execution_count": null,
   "metadata": {},
   "outputs": [],
   "source": []
  }
 ],
 "metadata": {
  "kernelspec": {
   "display_name": "Python 3 (ipykernel)",
   "language": "python",
   "name": "python3"
  },
  "language_info": {
   "codemirror_mode": {
    "name": "ipython",
    "version": 3
   },
   "file_extension": ".py",
   "mimetype": "text/x-python",
   "name": "python",
   "nbconvert_exporter": "python",
   "pygments_lexer": "ipython3",
   "version": "3.11.7"
  }
 },
 "nbformat": 4,
 "nbformat_minor": 4
}
