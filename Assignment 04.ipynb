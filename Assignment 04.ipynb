{
 "cells": [
  {
   "cell_type": "code",
   "execution_count": 14,
   "metadata": {},
   "outputs": [
    {
     "name": "stdout",
     "output_type": "stream",
     "text": [
      "['Saad', 'Ali', 'Huzaifa']\n"
     ]
    }
   ],
   "source": [
    "# 1. Write a program that accepts a list from user and print the alternate element of list. \n",
    "\n",
    "userList = input(\"Enter elements of the list separated by space: \")\n",
    "arrayList = userList.split()\n",
    "alternate_elements = arrayList[::2]\n",
    "print(alternate_elements)\n"
   ]
  },
  {
   "cell_type": "code",
   "execution_count": 19,
   "metadata": {},
   "outputs": [
    {
     "name": "stdout",
     "output_type": "stream",
     "text": [
      "['Ahmed', 'Ali', 'Saad']\n"
     ]
    }
   ],
   "source": [
    "# 2. Write a program that accepts a list from user. Your program should reverse the content of list and\n",
    "# display it. Do not use reverse() method.\n",
    "\n",
    "userList = input(\"Enter elements of the list separated by space: \")\n",
    "arrayList = userList.split()\n",
    "alternate_elements = arrayList[::-1]\n",
    "print(alternate_elements)"
   ]
  },
  {
   "cell_type": "code",
   "execution_count": 31,
   "metadata": {},
   "outputs": [
    {
     "name": "stdout",
     "output_type": "stream",
     "text": [
      "The largest number of list is: 980\n"
     ]
    }
   ],
   "source": [
    "# 3. Find and display the largest number of a list without using built-in function max(). Your program\n",
    "# should ask the user to input values in list from keyboard. \n",
    "\n",
    "userInputs = input(\"Enter numbers of the list separated by space: \")\n",
    "numberList = list(map(int, userInputs.split(\" \")))\n",
    "\n",
    "max = 0\n",
    "for i in numberList:\n",
    "    if i > max:\n",
    "        max = i\n",
    "\n",
    "print(f\"The largest number of list is: {max}\")"
   ]
  },
  {
   "cell_type": "code",
   "execution_count": 41,
   "metadata": {},
   "outputs": [
    {
     "name": "stdout",
     "output_type": "stream",
     "text": [
      "['Ayaz', 'Saad', 'Ali', 'Ibaad', 'Hamza']\n"
     ]
    }
   ],
   "source": [
    "# 4. Write a program that rotates the element of a list so that the element at the first index moves to the\n",
    "# second index, the element in the second index moves to the third index, etc., and the element in the last\n",
    "# index moves to the first index\n",
    "\n",
    "simpleList = [\"Saad\", \"Ali\", \"Ibaad\", \"Hamza\", \"Ayaz\"]\n",
    "lst = [simpleList[-1]] + simpleList[:-1]\n",
    "print(lst)"
   ]
  },
  {
   "cell_type": "code",
   "execution_count": 45,
   "metadata": {},
   "outputs": [
    {
     "name": "stdout",
     "output_type": "stream",
     "text": [
      "Hello world, this is a string\n"
     ]
    }
   ],
   "source": [
    "# 5. Write a program that input a string and ask user to delete a given word from a string. \n",
    "\n",
    "user_string = input(\"Enter a strings: \")\n",
    "userList = user_string.split(\" \")\n",
    "word_to_delete = input(\"Enter the word you want to delete from the string: \")\n",
    "updated_Word = []\n",
    "for word in userList:\n",
    "    if word_to_delete != word:\n",
    "        updated_Word.append(word)\n",
    "\n",
    "print(\" \".join(updated_Word))"
   ]
  },
  {
   "cell_type": "code",
   "execution_count": 53,
   "metadata": {},
   "outputs": [
    {
     "name": "stdout",
     "output_type": "stream",
     "text": [
      "May 14 2004\n"
     ]
    }
   ],
   "source": [
    "# 6. Write a program that reads a string from the user containing a date in the form mm/dd/yyyy. It\n",
    "# should print the date in the form March 12, 2021. \n",
    "months = [\"January\", \"February\", \"March\", \"April\", \"May\", \"June\", \n",
    "              \"July\", \"August\", \"September\", \"October\", \"November\", \"December\"]\n",
    "date = input(\"Enter date: eg: mm/dd/yyyy\")\n",
    "m,d,y = date.split(\"/\")\n",
    "print(months[int(m) - 1], d, y)"
   ]
  },
  {
   "cell_type": "code",
   "execution_count": 77,
   "metadata": {},
   "outputs": [
    {
     "name": "stdout",
     "output_type": "stream",
     "text": [
      "Stop And Smell The Roses \n"
     ]
    }
   ],
   "source": [
    "# 7. Write a program with a function that accepts a string from keyboard and create a new string after\n",
    "# converting character of each word capitalized. For instance, if the sentence is \"stop and smell the roses.\"\n",
    "# the output should be \"Stop And Smell The Roses\" \n",
    "\n",
    "sentence = input(\"Enter sentence: \")\n",
    "sentence_array = sentence.split(\" \")\n",
    "new_sentence = \"\"\n",
    "for word in sentence_array:\n",
    "    new_word = word[0].upper() + word[1:]\n",
    "    new_sentence += new_word + \" \"\n",
    "    \n",
    "print(new_sentence)"
   ]
  },
  {
   "cell_type": "code",
   "execution_count": 99,
   "metadata": {},
   "outputs": [
    {
     "name": "stdout",
     "output_type": "stream",
     "text": [
      "[2, 2, 2]\n",
      "[3, 3, 3]\n",
      "[4, 4, 4]\n",
      "Sum of row 1 = 6\n",
      "Sum of row 2 = 9\n",
      "Sum of row 3 = 12\n"
     ]
    }
   ],
   "source": [
    "# 8. Find the sum of each row of matrix of size m x n. For example for the following matrix output will be\n",
    "# like this :\n",
    "\n",
    "matrix_row = int(input(\"Enter numbers of row in matrix: \"))\n",
    "matrix_column = int(input(\"Enter numbers of column in matrix: \"))\n",
    "\n",
    "matrix = []\n",
    "row = []\n",
    "for i in range(matrix_row):\n",
    "    child_row = input(f\"Enter row {i + 1} elements separated by space: \")\n",
    "    row = list(map(int, child_row.split()))\n",
    "    matrix.append(row)\n",
    "    \n",
    "row_sums = []\n",
    "for row in matrix:\n",
    "    print(row)\n",
    "    sum_items = 0\n",
    "    for item in row:\n",
    "        sum_items += item\n",
    "    row_sums.append(sum_items)\n",
    "    \n",
    "\n",
    "for index, item in enumerate(row_sums):\n",
    "    print(f\"Sum of row {index + 1} = {item}\") "
   ]
  },
  {
   "cell_type": "code",
   "execution_count": 111,
   "metadata": {},
   "outputs": [
    {
     "name": "stdout",
     "output_type": "stream",
     "text": [
      "Resulting matrix after addition:\n",
      "[6, 13, 15]\n",
      "[8, 12, 14]\n"
     ]
    }
   ],
   "source": [
    "# 9. Write a program to add two matrices of size n x m. \n",
    "\n",
    "matrix_row = int(input(\"Enter numbers of row in matrix: \"))\n",
    "\n",
    "matrix1 = []\n",
    "row1 = []\n",
    "for i in range(matrix_row):\n",
    "    child_row = input(f\"Enter row {i + 1} elements separated by space: \")\n",
    "    row = list(map(int, child_row.split()))\n",
    "    matrix1.append(row)\n",
    "    \n",
    "matrix2 = []\n",
    "row2 = []\n",
    "for i in range(matrix_row):\n",
    "    child_row = input(f\"Enter row {i + 1} elements separated by space: \")\n",
    "    row2 = list(map(int, child_row.split()))\n",
    "    matrix2.append(row)\n",
    "    \n",
    "row_sums = []\n",
    "result_matrix  = []\n",
    "for i in range(len(matrix1)):\n",
    "    row = []\n",
    "    for j in range(len(matrix1[i])):\n",
    "        row.append(matrix1[i][j] + matrix2[i][j])\n",
    "    result_matrix .append(row)\n",
    "    \n",
    "print(\"Resulting matrix after addition:\")\n",
    "for row in result_matrix:\n",
    "    print(row)"
   ]
  },
  {
   "cell_type": "code",
   "execution_count": 1,
   "metadata": {},
   "outputs": [
    {
     "name": "stdout",
     "output_type": "stream",
     "text": [
      "Resulting matrix after multiply:\n",
      "[2, 15, 15]\n",
      "[1, 25, 9]\n"
     ]
    }
   ],
   "source": [
    "# 10. Write a program to multiply two matrices \n",
    "\n",
    "matrix_row = int(input(\"Enter numbers of row in matrix: \"))\n",
    "\n",
    "matrix1 = []\n",
    "row1 = []\n",
    "for i in range(matrix_row):\n",
    "    child_row = input(f\"Enter row {i + 1} elements separated by space: \")\n",
    "    row = list(map(int, child_row.split()))\n",
    "    matrix1.append(row)\n",
    "    \n",
    "matrix2 = []\n",
    "row2 = []\n",
    "for i in range(matrix_row):\n",
    "    child_row = input(f\"Enter row {i + 1} elements separated by space: \")\n",
    "    row2 = list(map(int, child_row.split()))\n",
    "    matrix2.append(row)\n",
    "    \n",
    "row_sums = []\n",
    "result_matrix  = []\n",
    "for i in range(len(matrix1)):\n",
    "    row = []\n",
    "    for j in range(len(matrix1[i])):\n",
    "        row.append(matrix1[i][j] * matrix2[i][j])\n",
    "    result_matrix .append(row)\n",
    "    \n",
    "print(\"Resulting matrix after multiply:\")\n",
    "for row in result_matrix:\n",
    "    print(row)"
   ]
  },
  {
   "cell_type": "code",
   "execution_count": null,
   "metadata": {},
   "outputs": [],
   "source": []
  }
 ],
 "metadata": {
  "kernelspec": {
   "display_name": "Python 3",
   "language": "python",
   "name": "python3"
  },
  "language_info": {
   "codemirror_mode": {
    "name": "ipython",
    "version": 3
   },
   "file_extension": ".py",
   "mimetype": "text/x-python",
   "name": "python",
   "nbconvert_exporter": "python",
   "pygments_lexer": "ipython3",
   "version": "3.12.4"
  }
 },
 "nbformat": 4,
 "nbformat_minor": 2
}
