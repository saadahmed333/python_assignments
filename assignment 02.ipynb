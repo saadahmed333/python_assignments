{
 "cells": [
  {
   "cell_type": "code",
   "execution_count": null,
   "id": "4c6879ea-6d6c-4613-a208-cca9d4ef57ec",
   "metadata": {},
   "outputs": [],
   "source": [
    "# Write a program that accepts a string from user. Your program should count and display number of vowels in that string.\n",
    "\n",
    "def count_vowels(input_string):\n",
    "    vowels = \"aeiou\"\n",
    "    count = 0\n",
    "    \n",
    "    for char in input_string:\n",
    "        if char in vowels:\n",
    "            count += 1\n",
    "            \n",
    "    return count\n",
    "\n",
    "user_input = input(\"Enter a string: \")\n",
    "vowel_count = count_vowels(user_input.lower())\n",
    "print(f\"The number of vowels in the string is: {vowel_count}\")\n"
   ]
  },
  {
   "cell_type": "code",
   "execution_count": 59,
   "id": "fc1ef11c-1886-458d-9779-3fcecd63830c",
   "metadata": {},
   "outputs": [
    {
     "name": "stdout",
     "output_type": "stream",
     "text": [
      "The number of uppercase letters in the string 5\n",
      "The number of lowercase letters in the string 4\n",
      "The number of digits in the string 10\n",
      "The number of whitespace characters in the string 1\n"
     ]
    }
   ],
   "source": [
    "# 2. Write a program that reads a string from keyboard and display: \n",
    "# * The number of uppercase letters in the string \n",
    "# * The number of lowercase letters in the string \n",
    "# * The number of digits in the string \n",
    "# * The number of whitespace characters in the string\n",
    "\n",
    "def checkString(word):\n",
    "    upper_case_count = 0\n",
    "    lower_case_count = 0\n",
    "    digit_count = 0\n",
    "    white_space_count = 0\n",
    "    \n",
    "    # check upper case letter\n",
    "    for up_ca in word:\n",
    "        if (up_ca.isupper()):\n",
    "            upper_case_count += 1\n",
    "\n",
    "    # check lower case letter\n",
    "    for lo_ca in word:\n",
    "        if (lo_ca.islower()):\n",
    "            lower_case_count += 1\n",
    "    \n",
    "    # check digit in this word\n",
    "    for digit in word:\n",
    "        digit_count += 1\n",
    "\n",
    "    # check white space in this word\n",
    "    for whi_spac in word:\n",
    "        if whi_spac.isspace():\n",
    "            white_space_count += 1\n",
    "\n",
    "    print(f\"The number of uppercase letters in the string {upper_case_count}\")\n",
    "    print(f\"The number of lowercase letters in the string {lower_case_count}\")\n",
    "    print(f\"The number of digits in the string {digit_count}\")\n",
    "    print(f\"The number of whitespace characters in the string {white_space_count}\")\n",
    "    \n",
    "\n",
    "checkString(\"SaAD AhMed\")"
   ]
  },
  {
   "cell_type": "code",
   "execution_count": null,
   "id": "b7a9dbe4-0314-4ead-b43d-8f64578679fc",
   "metadata": {},
   "outputs": [],
   "source": [
    "# 3. Write a Python program that accepts a string from user. Your program should create and display a \n",
    "# new string where the first and last characters have been exchanged. \n",
    "# For example if the user enters the string 'HELLO' then new string would be 'OELLH'\n",
    "\n",
    "def changeCharLocation(word):\n",
    "    changed_word = word[-1] + word[1 : -1] + word[0]\n",
    "    print(changed_word)\n",
    "    \n",
    "changeCharLocation(\"HELLO\")"
   ]
  },
  {
   "cell_type": "code",
   "execution_count": null,
   "id": "2ce7ed37-c044-4666-b8d8-0f50b8ef1bf1",
   "metadata": {},
   "outputs": [],
   "source": [
    "# 4. Write a Python program that accepts a string from user. Your program should create a new string in \n",
    "# reverse of first string and display it. \n",
    "\n",
    "def reverseWord(word):\n",
    "    rev_word = \"\"\n",
    "    for char in word:\n",
    "        rev_word = char+rev_word\n",
    "    print(rev_word)\n",
    "\n",
    "user_input = input(\"Enter a word: \")\n",
    "reverseWord(user_input)"
   ]
  },
  {
   "cell_type": "code",
   "execution_count": 4,
   "id": "e513f44e-4181-474e-8f17-3e41614d95dc",
   "metadata": {},
   "outputs": [
    {
     "name": "stdout",
     "output_type": "stream",
     "text": [
      "ahns\n"
     ]
    }
   ],
   "source": [
    "# 5. Write a Python program that accepts a string from user. Your program should create a new string by \n",
    "# shifting one position to left.\n",
    "\n",
    "def shiftingPosition(word):\n",
    "    shift_word = word[1:] + word[0]\n",
    "    print(shift_word)\n",
    "\n",
    "user_input = input(\"Enter a word: \")\n",
    "shiftingPosition(user_input)"
   ]
  },
  {
   "cell_type": "code",
   "execution_count": 30,
   "id": "9c4ba089-3f73-4812-89d3-401455b1ff8c",
   "metadata": {},
   "outputs": [
    {
     "name": "stdout",
     "output_type": "stream",
     "text": [
      "S.A\n"
     ]
    }
   ],
   "source": [
    "# 6. Write a program that asks the user to input his name and print its initials. Assuming that the user\n",
    "# always types first name, middle name and last name and does not include any unnecessary spaces.\n",
    "# For example, if the user enters Ajay Kumar Garg the program should display A. K. G.\n",
    "# Note:Don't use split() method \n",
    "\n",
    "\n",
    "name = input(\"Enter your name\")\n",
    "\n",
    "character = \"\"\n",
    "for index, alpha in enumerate(name):\n",
    "    if index == 0:\n",
    "        character += name[index]\n",
    "    if alpha == \" \":\n",
    "        character += \".\" + name[index + 1]\n",
    "        \n",
    "print(character)"
   ]
  },
  {
   "cell_type": "code",
   "execution_count": 33,
   "id": "19e136d0",
   "metadata": {},
   "outputs": [
    {
     "name": "stdout",
     "output_type": "stream",
     "text": [
      "Its Palindrome Word\n"
     ]
    }
   ],
   "source": [
    "# 7. A palindrome is a string that reads the same backward as forward. For example, the words dad,\n",
    "# madam and radar are all palindromes. Write a programs that determines whether the string is a\n",
    "# palindrome. \n",
    "\n",
    "name = input(\"Enter word to check its Palindrome or not.\")\n",
    "\n",
    "reversed = \"\"\n",
    "for char in name:\n",
    "    reversed = char + reversed\n",
    "\n",
    "\n",
    "if name == reversed:\n",
    "    print(\"Its Palindrome Word\")\n",
    "else:\n",
    "    print(\"Its not Palindrome Word\")"
   ]
  },
  {
   "cell_type": "code",
   "execution_count": 45,
   "id": "ecb42603",
   "metadata": {},
   "outputs": [
    {
     "name": "stdout",
     "output_type": "stream",
     "text": [
      "HIFTS\n"
     ]
    }
   ],
   "source": [
    "# 8. Write a program that display following output:\n",
    "# SHIFT\n",
    "# HIFTS\n",
    "# IFTSH\n",
    "# FTSHI\n",
    "# TSHIF\n",
    "# SHIFT\n",
    "\n",
    "word = \"SHIFT\"\n",
    "first_left = word[1:] + word[0]\n",
    "print(first_left)"
   ]
  },
  {
   "cell_type": "code",
   "execution_count": 61,
   "id": "cf7c57c4",
   "metadata": {},
   "outputs": [
    {
     "name": "stdout",
     "output_type": "stream",
     "text": [
      "Password Created Successfully.\n"
     ]
    }
   ],
   "source": [
    "# 9. Write a program in python that accepts a string to setup a passwords. Your entered password must\n",
    "# meet the following requirements: \n",
    "# The password must be at least eight characters long.\n",
    "# It must contain at least one uppercase letter.\n",
    "# It must contain at least one lowercase letter.\n",
    "# It must contain at least one numeric digit.\n",
    "# Your program should should perform this validation. \n",
    "\n",
    "password = input(\"Enter Password: \")\n",
    "\n",
    "isUpper = False\n",
    "isLower = False\n",
    "isDigit = False\n",
    "for char in password:\n",
    "    if char.isupper():\n",
    "        isUpper = True\n",
    "    if char.islower():\n",
    "        isLower = True\n",
    "    if char.isdigit():\n",
    "        isDigit = True\n",
    "\n",
    "if len(password) < 8:\n",
    "    print(\"The password must be at least eight characters long.\")\n",
    "elif isUpper == False:\n",
    "    print(\"It must contain at least one uppercase letter.\")\n",
    "elif isLower == False:\n",
    "    print(\"It must contain at least one lowercase letter.\")\n",
    "elif isDigit == False:\n",
    "    print(\"It must contain at least one numeric digit.\")\n",
    "else:\n",
    "    print(\"Password Created Successfully.\")\n"
   ]
  },
  {
   "cell_type": "code",
   "execution_count": null,
   "id": "409285b8",
   "metadata": {},
   "outputs": [],
   "source": []
  },
  {
   "cell_type": "code",
   "execution_count": null,
   "metadata": {},
   "outputs": [],
   "source": []
  },
  {
   "cell_type": "code",
   "execution_count": null,
   "id": "c9c1b838",
   "metadata": {},
   "outputs": [],
   "source": []
  },
  {
   "cell_type": "code",
   "execution_count": null,
   "id": "ba1a5f16",
   "metadata": {},
   "outputs": [],
   "source": []
  }
 ],
 "metadata": {
  "kernelspec": {
   "display_name": "Python 3",
   "language": "python",
   "name": "python3"
  },
  "language_info": {
   "codemirror_mode": {
    "name": "ipython",
    "version": 3
   },
   "file_extension": ".py",
   "mimetype": "text/x-python",
   "name": "python",
   "nbconvert_exporter": "python",
   "pygments_lexer": "ipython3",
   "version": "3.12.4"
  }
 },
 "nbformat": 4,
 "nbformat_minor": 5
}
